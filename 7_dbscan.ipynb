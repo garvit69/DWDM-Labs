{
  "metadata": {
    "kernelspec": {
      "language": "python",
      "display_name": "Python 3",
      "name": "python3"
    },
    "language_info": {
      "name": "python",
      "version": "3.7.12",
      "mimetype": "text/x-python",
      "codemirror_mode": {
        "name": "ipython",
        "version": 3
      },
      "pygments_lexer": "ipython3",
      "nbconvert_exporter": "python",
      "file_extension": ".py"
    },
    "colab": {
      "provenance": [],
      "include_colab_link": true
    }
  },
  "nbformat_minor": 0,
  "nbformat": 4,
  "cells": [
    {
      "cell_type": "markdown",
      "metadata": {
        "id": "view-in-github",
        "colab_type": "text"
      },
      "source": [
        "<a href=\"https://colab.research.google.com/github/garvit69/DWDM-Labs/blob/main/7_dbscan.ipynb\" target=\"_parent\"><img src=\"https://colab.research.google.com/assets/colab-badge.svg\" alt=\"Open In Colab\"/></a>"
      ]
    },
    {
      "cell_type": "code",
      "source": [
        "import numpy as np\n",
        "from sklearn.neighbors import NearestNeighbors"
      ],
      "metadata": {
        "trusted": true,
        "id": "mZUQPtuKqI2W"
      },
      "execution_count": null,
      "outputs": []
    },
    {
      "cell_type": "code",
      "source": [
        "def dbscan(X, eps, MinPts):\n",
        "    # Calculate pairwise distances between data points\n",
        "    nbrs = NearestNeighbors(n_neighbors=MinPts).fit(X)\n",
        "    distances, indices = nbrs.kneighbors(X)\n",
        "    \n",
        "    # Initialize all points as unvisited (-1)\n",
        "    labels = -np.ones(X.shape[0])\n",
        "    \n",
        "    # Initialize cluster counter\n",
        "    cluster_count = 0\n",
        "    \n",
        "    # Iterate over all points\n",
        "    for i in range(X.shape[0]):\n",
        "        # If point has already been visited, skip\n",
        "        if labels[i] != -1:\n",
        "            continue\n",
        "        \n",
        "        # Find all points within eps distance\n",
        "        neighbors = indices[i, distances[i] < eps]\n",
        "        \n",
        "        # If point has fewer than MinPts neighbors, mark as noise\n",
        "        if len(neighbors) < MinPts:\n",
        "            labels[i] = 0 # noise point\n",
        "            continue\n",
        "        \n",
        "        # Increment cluster counter and mark point as a core point\n",
        "        cluster_count += 1\n",
        "        labels[i] = cluster_count\n",
        "        \n",
        "        # Find all neighbors of point within eps distance and mark them as belonging to same cluster\n",
        "        j = 0\n",
        "        while j < len(neighbors):\n",
        "            neighbor = neighbors[j]\n",
        "            if labels[neighbor] == 0: # if neighbor is noise, mark as border point\n",
        "                labels[neighbor] = cluster_count\n",
        "            elif labels[neighbor] == -1: # if neighbor is unvisited, mark as core point and find its neighbors\n",
        "                labels[neighbor] = cluster_count\n",
        "                new_neighbors = indices[neighbor, distances[neighbor] < eps]\n",
        "                if len(new_neighbors) >= MinPts:\n",
        "                    neighbors = np.concatenate((neighbors, new_neighbors))\n",
        "            j += 1\n",
        "    \n",
        "    # Extract core points, border points, and noise points\n",
        "    core_points = X[labels > 0]\n",
        "    border_points = X[labels == 0]\n",
        "    noise_points = X[labels == -1]\n",
        "    \n",
        "    return core_points, border_points, noise_points"
      ],
      "metadata": {
        "trusted": true,
        "id": "qBL-GzPPqI2Y"
      },
      "execution_count": null,
      "outputs": []
    },
    {
      "cell_type": "code",
      "source": [
        "# Input data points\n",
        "X = np.array( [(4, 2), (3, 1), (2, 1), (1, 2), (5, 3), (3, 5), (5, 4), (2, 5), (3, 1), (6, 10), (4, 7), (9, 3), (5, 4)] )\n",
        "\n",
        "# DBSCAN algorithm with eps=0.6 and MinPts=4\n",
        "core_points, border_points, noise_points = dbscan(X, 0.6, 4)\n",
        "\n",
        "# Print results\n",
        "print(\"Core points:\\n\", core_points)\n",
        "print(\"Border points:\\n\", border_points)\n",
        "print(\"Noise points:\\n\", noise_points)"
      ],
      "metadata": {
        "trusted": true,
        "id": "c-4_g2qkqI2Z",
        "colab": {
          "base_uri": "https://localhost:8080/"
        },
        "outputId": "b6f0a24b-e5a4-45c6-ad74-c7a8f3d0b6bd"
      },
      "execution_count": null,
      "outputs": [
        {
          "output_type": "stream",
          "name": "stdout",
          "text": [
            "Core points:\n",
            " []\n",
            "Border points:\n",
            " [[ 4  2]\n",
            " [ 3  1]\n",
            " [ 2  1]\n",
            " [ 1  2]\n",
            " [ 5  3]\n",
            " [ 3  5]\n",
            " [ 5  4]\n",
            " [ 2  5]\n",
            " [ 3  1]\n",
            " [ 6 10]\n",
            " [ 4  7]\n",
            " [ 9  3]\n",
            " [ 5  4]]\n",
            "Noise points:\n",
            " []\n"
          ]
        }
      ]
    },
    {
      "cell_type": "code",
      "source": [],
      "metadata": {
        "id": "i3--l8bmsmsw"
      },
      "execution_count": null,
      "outputs": []
    }
  ]
}